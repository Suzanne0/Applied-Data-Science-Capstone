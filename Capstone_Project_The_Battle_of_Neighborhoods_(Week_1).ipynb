{
  "nbformat": 4,
  "nbformat_minor": 0,
  "metadata": {
    "colab": {
      "name": "Capstone Project - The Battle of Neighborhoods (Week 1).ipynb",
      "provenance": []
    },
    "kernelspec": {
      "name": "python3",
      "display_name": "Python 3"
    },
    "language_info": {
      "name": "python"
    }
  },
  "cells": [
    {
      "cell_type": "markdown",
      "metadata": {
        "id": "Y085FlKno5PU"
      },
      "source": [
        "# Applied Data Science Capstone Project "
      ]
    },
    {
      "cell_type": "markdown",
      "metadata": {
        "id": "qAkWENNJpRDx"
      },
      "source": [
        "# The Restaurant Battle of Neighborhoods in ShenZhen"
      ]
    },
    {
      "cell_type": "markdown",
      "metadata": {
        "id": "sNCzlEGZpcg4"
      },
      "source": [
        "## Introduction/Business Problem "
      ]
    },
    {
      "cell_type": "markdown",
      "metadata": {
        "id": "i07Mtp1tpcnr"
      },
      "source": [
        "Shenzhen has been ranked second on the list of 'top 10 cities to visit in 2019' by Lonely Planet. In its \"12th Five-Year Plan for Tourism Development of Shenzhen,\" the Shenzhen administration focused on turning the city into an international tourist hub, with emphasis on the city's scientific, fashion, and industrial elements. The local administration claims the Shenzhen tourist industry to have a strong development advantage due to the town being one of the tier-one cities in China and being known for its coastal resources, climate environment, capitalist economy, and technological innovation. For tourists, finding the right place to eat can be a challenge, though. So in this assignment, I will give a simple recommendation to tourists in Shenshen: in which district of the city will you find a large number or even concentration of which types of restaurants? Where to eat Chinese food,  where to get fast food? Where to find other ethnic cuisines? The target audience is foreign tourists."
      ]
    },
    {
      "cell_type": "markdown",
      "metadata": {
        "id": "_9wd7aEHwNEw"
      },
      "source": [
        "# Data"
      ]
    },
    {
      "cell_type": "markdown",
      "metadata": {
        "id": "MvDnzxsCwTBv"
      },
      "source": [
        "For the data, I will use two resources.\n",
        "First Wikipedia to get all districts of Shenzhen city https://en.wikipedia.org/wiki/List_of_administrative_divisions_of_Shenzhen\n",
        "And second Foursquare to get all restaurants in Shenzhen city."
      ]
    }
  ]
}